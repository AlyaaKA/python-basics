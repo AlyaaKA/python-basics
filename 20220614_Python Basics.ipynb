{
 "cells": [
  {
   "cell_type": "markdown",
   "id": "4568938d",
   "metadata": {},
   "source": [
    "# Python Basics"
   ]
  },
  {
   "cell_type": "markdown",
   "id": "89a67b70",
   "metadata": {},
   "source": [
    "## Genreal notes:\n",
    "-There are 4 types of cells:/\n",
    "\n",
    "    .Code\n",
    "    .Markdown: we can change the cell to markdown by pressing m on the keyboard.\n",
    "    .RawNBC convert.\n",
    "    .Heading: Jupyter no longer uses special heading cells. Instead, we can use # for heading 1, ## for heading 2 and so in\n",
    "     the Markdown cell"
   ]
  },
  {
   "cell_type": "markdown",
   "id": "e73fec49",
   "metadata": {},
   "source": [
    "## Table Of Content\n",
    "<ul>\n",
    "<li><a href=\"#Import modules & Pip\">Import modules & Pip</a></li>\n",
    "<li><a href=\"#Python data\">Python data</a></li>\n",
    "<li><a href=\"#Data type conversion\">Data type conversion</a></li>\n",
    "<li><a href=\"#Python List\">Python List</a></li> \n",
    "<li><a href=\"#Python Tuples\">Python Tuples</a></li>\n",
    "<li><a href=\"#Python Functions\">Python Functions</a></li><ul>\n",
    "    <li><a href=\"#Print\">Print</a></li>\n",
    "    <li><a href=\"#Mathmatical functions\">Mathmatical functions</a></li>\n",
    "    <li><a href=\"#Input\">Input</a></li>\n",
    "    <li><a href=\"#Define function & return statement\">Define function & return statement</a></li>\n",
    "    <li><a href=\"#If Statement\">If Statement</a></li>\n",
    "    <li><a href=\"#While loop\">While loop</a></li>\n",
    "    <li><a href=\"#For loops\">For loops</a></li>\n",
    "    <li><a href=\"#Try/ Except\">Try/ Except</a></li>\n",
    "    <li><a href=\"#Open, read and close files\">Open, read and close files</a></li>\n",
    "    \n",
    " \n",
    "   \n"
   ]
  },
  {
   "cell_type": "markdown",
   "id": "d5f436bd",
   "metadata": {},
   "source": [
    "<a id='Import modules & Pip'></a>\n",
    "## Import modules & Pip"
   ]
  },
  {
   "cell_type": "code",
   "execution_count": null,
   "id": "0b818c6e",
   "metadata": {},
   "outputs": [],
   "source": [
    "# list of python modules : https://docs.python.org/3/py-modindex.html\n",
    "import numpy as np"
   ]
  },
  {
   "cell_type": "code",
   "execution_count": 1,
   "id": "614b101c",
   "metadata": {},
   "outputs": [],
   "source": [
    "import pandas as pd"
   ]
  },
  {
   "cell_type": "markdown",
   "id": "2c918481",
   "metadata": {},
   "source": [
    "<a id='Python data'></a>\n",
    "## Python data: Strings, Numbers & Boolean & Dictionary "
   ]
  },
  {
   "cell_type": "markdown",
   "id": "93ae9436",
   "metadata": {},
   "source": [
    "### String"
   ]
  },
  {
   "cell_type": "code",
   "execution_count": null,
   "id": "dcec0942",
   "metadata": {},
   "outputs": [],
   "source": [
    "'''Strings: strings mean any text that we want to print as it is and it \n",
    "should be between parentheses'''\n",
    "fig_name = \"Maryam\" \n",
    "#to print out the string that we made we just type in it's name and it will be shown under the cell\n",
    "fig_name"
   ]
  },
  {
   "cell_type": "markdown",
   "id": "54436868",
   "metadata": {},
   "source": [
    "### Numbers"
   ]
  },
  {
   "cell_type": "code",
   "execution_count": null,
   "id": "28da9b58",
   "metadata": {},
   "outputs": [],
   "source": [
    "#Number\n",
    "child_age = 10\n",
    "child_age"
   ]
  },
  {
   "cell_type": "markdown",
   "id": "6f224d4c",
   "metadata": {},
   "source": [
    "### Boolean"
   ]
  },
  {
   "cell_type": "code",
   "execution_count": null,
   "id": "33df51b8",
   "metadata": {},
   "outputs": [],
   "source": [
    "#Booleans: mean the thing that we want to know is true or false\n",
    "is_child = True\n",
    "is_adult = False\n",
    "is_child"
   ]
  },
  {
   "cell_type": "markdown",
   "id": "23e1deb8",
   "metadata": {},
   "source": [
    "### Dictionary "
   ]
  },
  {
   "cell_type": "code",
   "execution_count": null,
   "id": "9b7f4c3b",
   "metadata": {},
   "outputs": [],
   "source": [
    "days = {\n",
    "    \"sa\" : \"saturday\",\n",
    "    \"su\" : \"sunday\",\n",
    "    \"mo\" : \"monday\",\n",
    "    \"tu\" : \"tuesday\",\n",
    "    \"we\" : \"wednesday\",\n",
    "    \"Th\" : \"thursday\",\n",
    "    \"fr\" : \"friday\"\n",
    "    }\n",
    "print(days)\n",
    "print(days[\"sa\"], days[\"mo\"])\n",
    "print(days.get(\"fri\", \"not a valid data\"))"
   ]
  },
  {
   "cell_type": "code",
   "execution_count": 2,
   "id": "238794ea",
   "metadata": {},
   "outputs": [
    {
     "name": "stdout",
     "output_type": "stream",
     "text": [
      "{1: 'I am good', 2: 'I am sad', 3: 'I am ok'}\n",
      "I am sad\n",
      "I am ok\n"
     ]
    }
   ],
   "source": [
    "howareyou = {\n",
    "    1 : \"I am good\",\n",
    "    2 : \"I am sad\",\n",
    "    3 : \"I am ok\"\n",
    "    }\n",
    "print(howareyou)\n",
    "print(howareyou[2])\n",
    "print(howareyou.get(3))"
   ]
  },
  {
   "cell_type": "code",
   "execution_count": null,
   "id": "1f1c8896",
   "metadata": {},
   "outputs": [],
   "source": [
    "#To know the type of the cell we use (type)\n",
    "print (type(fig_name))\n",
    "print (type(child_age))\n",
    "print (type(howareyou))"
   ]
  },
  {
   "cell_type": "markdown",
   "id": "821c5d10",
   "metadata": {},
   "source": [
    "<a id='Data type conversion'></a>\n",
    "## Data type conversion"
   ]
  },
  {
   "cell_type": "markdown",
   "id": "2c436e53",
   "metadata": {},
   "source": [
    "### Convert number into a string"
   ]
  },
  {
   "cell_type": "code",
   "execution_count": null,
   "id": "75184a3e",
   "metadata": {
    "scrolled": true
   },
   "outputs": [],
   "source": [
    "# to change number into a string we use the string function\n",
    "fig_name = \"Maryam\"\n",
    "fig_age = 11\n",
    "print (fig_name + \" is \" + str(fig_age) + \" years old\")"
   ]
  },
  {
   "cell_type": "markdown",
   "id": "7d05013d",
   "metadata": {},
   "source": [
    "### Convert string into an integer and float"
   ]
  },
  {
   "cell_type": "code",
   "execution_count": null,
   "id": "37fc551d",
   "metadata": {},
   "outputs": [],
   "source": [
    "#Python function to convert string into integer number\n",
    "kid_brth_year = input (\"what is your kid's year of birth? \")\n",
    "kid_age = 2022 - int(kid_brth_year) \n",
    "print (kid_age)"
   ]
  },
  {
   "cell_type": "code",
   "execution_count": null,
   "id": "e0a2fab5",
   "metadata": {
    "scrolled": false
   },
   "outputs": [],
   "source": [
    "#Python function to convert string into float number\n",
    "num1 = input (\"insert first number\")\n",
    "num2 = input (\"insert second number\")\n",
    "total = float(num1) + float(num2)\n",
    "print (total)"
   ]
  },
  {
   "cell_type": "markdown",
   "id": "f831cf87",
   "metadata": {},
   "source": [
    "<a id='Python List'></a>\n",
    "## Python List"
   ]
  },
  {
   "cell_type": "code",
   "execution_count": null,
   "id": "1e1d5aef",
   "metadata": {},
   "outputs": [],
   "source": [
    "#It could contain any type of data, we use [] to creat it, we then can assign any value to the list.\n",
    "Jana_info = [\"Jana\" , 2009 , True]\n",
    "Maryam_info = [\"Maryam\" , 2012 , False]\n",
    "Noor_info = [\"Noor\" , 2009 , True]"
   ]
  },
  {
   "cell_type": "code",
   "execution_count": null,
   "id": "d96c201a",
   "metadata": {},
   "outputs": [],
   "source": [
    "#list can also be 2 dimensional\n",
    "number = [\n",
    "    [1,2,3],\n",
    "    [4,5,6],\n",
    "    [7,8,9],\n",
    "    [0]  \n",
    "]\n",
    "print(number[2][0])\n",
    "print(number[2],number[0],[1])\n",
    "for row in number:\n",
    "    print(row)\n",
    "for row in number:\n",
    "    for col in row:\n",
    "        print (col)"
   ]
  },
  {
   "cell_type": "code",
   "execution_count": null,
   "id": "052e72bb",
   "metadata": {},
   "outputs": [],
   "source": [
    "print(Jana_info)"
   ]
  },
  {
   "cell_type": "code",
   "execution_count": null,
   "id": "1010c20c",
   "metadata": {},
   "outputs": [],
   "source": [
    "#change a specific element in the list\n",
    "Jana_info[0] = \"Janjoona\"\n",
    "print(Jana_info)"
   ]
  },
  {
   "cell_type": "code",
   "execution_count": null,
   "id": "64d21bea",
   "metadata": {},
   "outputs": [],
   "source": [
    "# Extend a list with another list\n",
    "jana_list = [3,3,3]\n",
    "maryam_list = [2,2,2]\n",
    "noor_list = [1,1,1]\n",
    "jana_list.extend(maryam_list)\n",
    "print(jana_list)"
   ]
  },
  {
   "cell_type": "code",
   "execution_count": null,
   "id": "25cb37cc",
   "metadata": {},
   "outputs": [],
   "source": [
    "#if we repeted this function again and again it will keep adding maryam_list to jana_list\n",
    "#so the extend function will change the origional list for ever not only for this cell\n",
    "jana_list.extend(maryam_list)\n",
    "print(jana_list)\n"
   ]
  },
  {
   "cell_type": "code",
   "execution_count": null,
   "id": "977c8328",
   "metadata": {},
   "outputs": [],
   "source": [
    "# Append a value to the end of the list\n",
    "jana_list.append(\"Alyaa\")\n",
    "print(jana_list)\n",
    "# append also change the original list so if we keep running this code it will keep adding alyaa to the end of the list"
   ]
  },
  {
   "cell_type": "code",
   "execution_count": null,
   "id": "5ace962f",
   "metadata": {},
   "outputs": [],
   "source": [
    "# insert\n",
    "jana_list.insert(0, \"Ramiz\")\n",
    "print(jana_list)\n",
    "# so all function work with list will change the original values of the list"
   ]
  },
  {
   "cell_type": "code",
   "execution_count": null,
   "id": "8aa1da22",
   "metadata": {},
   "outputs": [],
   "source": [
    "# Remove an element from the list\n",
    "jana_list.remove(\"Ramiz\")\n",
    "#note that this will remove only one one string that is = \"ramiz\"\n",
    "print (jana_list)"
   ]
  },
  {
   "cell_type": "code",
   "execution_count": null,
   "id": "080681bf",
   "metadata": {},
   "outputs": [],
   "source": [
    "#pop remove an element from the list\n",
    "list = [1 , 2, 3 , 4 , 5]\n",
    "#pop function is going to remove the last element from the list\n",
    "list.pop(0)\n",
    "print (list)\n",
    "\n",
    "#clear function to clear the list\n",
    "list.clear()\n",
    "#when we use empty () this mean that we want to choose every value inside the list \n",
    "\n",
    "list"
   ]
  },
  {
   "cell_type": "code",
   "execution_count": null,
   "id": "53b85dd5",
   "metadata": {},
   "outputs": [],
   "source": [
    "# index to search for a specific value in the list\n",
    "list = [1 , 2, 3 , 4 , 4, 3 , 3 , 5]\n",
    "print (list.index(2))\n",
    "# count to find out how many times the value repeated in the list\n",
    "print (list.count(4))"
   ]
  },
  {
   "cell_type": "code",
   "execution_count": null,
   "id": "a56c9977",
   "metadata": {},
   "outputs": [],
   "source": [
    "# sort\n",
    "list_names = [\"Ramiz\" , \"Alyaa\" , \"Jana\" , \"Maryam\" , \"Noor\"]\n",
    "list_names.sort()\n",
    "list_names"
   ]
  },
  {
   "cell_type": "code",
   "execution_count": null,
   "id": "a716ef4e",
   "metadata": {},
   "outputs": [],
   "source": [
    "# reverse make the list in a reverse way no matter if it is ascending or descending \n",
    "list_names.reverse()\n",
    "list_names"
   ]
  },
  {
   "cell_type": "code",
   "execution_count": null,
   "id": "0a83c4a5",
   "metadata": {},
   "outputs": [],
   "source": [
    "# copy make a copy of the list exactly the same\n",
    "list_names_2 = list_names.copy()\n",
    "list_names_2"
   ]
  },
  {
   "cell_type": "markdown",
   "id": "d81c490e",
   "metadata": {},
   "source": [
    "<a id='Python Tuples'></a>\n",
    "## Python Tuples"
   ]
  },
  {
   "cell_type": "code",
   "execution_count": null,
   "id": "16eefb42",
   "metadata": {},
   "outputs": [],
   "source": [
    "# Tuples is like list but once we create it we can not change it, we call it immutable, the only way it can be changed is to\n",
    "#re run the cell and recreat that tuple.\n",
    "#When we creat a list we use [] but when we creat a list we use ()\n",
    "Tuple_1 = (1, 2, 5, 8, 6)\n",
    "print(Tuple_1[3])"
   ]
  },
  {
   "cell_type": "markdown",
   "id": "b774e55a",
   "metadata": {},
   "source": [
    "## Tuple inside list"
   ]
  },
  {
   "cell_type": "code",
   "execution_count": null,
   "id": "6f58c971",
   "metadata": {},
   "outputs": [],
   "source": [
    "Coordinates = [(1,2) , (3,4), (5,6) , (7,8) , (9,10)]\n",
    "Coordinates"
   ]
  },
  {
   "cell_type": "code",
   "execution_count": null,
   "id": "084e5699",
   "metadata": {},
   "outputs": [],
   "source": [
    "Coordinates[3] = (1,1)\n",
    "Coordinates"
   ]
  },
  {
   "cell_type": "markdown",
   "id": "38722e94",
   "metadata": {},
   "source": [
    "<a id='Python Functions'></a>\n",
    "## Python Functions"
   ]
  },
  {
   "cell_type": "markdown",
   "id": "f5d45d4c",
   "metadata": {},
   "source": [
    "### A function is basically a collection of codes which perform a specific task"
   ]
  },
  {
   "cell_type": "markdown",
   "id": "27000d1b",
   "metadata": {},
   "source": [
    "<a id='Print'></a>\n",
    "### Print"
   ]
  },
  {
   "cell_type": "code",
   "execution_count": null,
   "id": "23912ffb",
   "metadata": {},
   "outputs": [],
   "source": [
    "## print function with strings\n",
    "fig_name = \"Mariam\"\n",
    "print (fig_name)\n",
    "print (fig_name.isupper())\n",
    "\n",
    "#to specify a specific letter in the phrase that we want to see it's case we use []the number of the letter\n",
    "print (fig_name[1].islower())\n",
    "print (fig_name.upper())\n",
    "print (fig_name.lower().islower())\n",
    "print (len(fig_name))\n",
    "print (fig_name.index(\"iam\"))\n",
    "print (fig_name.replace(\"i\",\"y\"))"
   ]
  },
  {
   "cell_type": "code",
   "execution_count": null,
   "id": "be33a73c",
   "metadata": {},
   "outputs": [],
   "source": [
    "#Print function, concatenation\n",
    "print (\"The story of Maryam\")\n",
    "print (\"fig_name\" + \" = \" + fig_name)\n"
   ]
  },
  {
   "cell_type": "code",
   "execution_count": null,
   "id": "b56d2152",
   "metadata": {},
   "outputs": [],
   "source": [
    "#to print in a new line\n",
    "print (\"Alyaa \\n Khalid\")"
   ]
  },
  {
   "cell_type": "code",
   "execution_count": null,
   "id": "0d7fbd1b",
   "metadata": {},
   "outputs": [],
   "source": [
    "#Back slash tell python that I want to print what ever after the back slash as it is.\n",
    "print (\"Alya\\'a Khalid\")"
   ]
  },
  {
   "cell_type": "code",
   "execution_count": null,
   "id": "94088f23",
   "metadata": {},
   "outputs": [],
   "source": [
    "## Print Function with numbers\n",
    "fig_age = 10\n",
    "print ((fig_age + 6) / 2)\n",
    "#to get the remainder \n",
    "print ((fig_age + 6) % 3)"
   ]
  },
  {
   "cell_type": "code",
   "execution_count": null,
   "id": "9e819483",
   "metadata": {
    "scrolled": true
   },
   "outputs": [],
   "source": [
    "Jana_list = [3,3,3]\n",
    "Maryam_list = [2,2,2]\n",
    "Noor_list = [1,1,1]\n",
    "print (Jana_list + Maryam_list , Noor_list)\n",
    "print (Jana_list[0], Maryam_list[1] , Noor_list[2])\n",
    "#to count from the end we use - before the number and the last number is going to have numbe 1\n",
    "print (Noor_list[-1])\n",
    "\n",
    "#to print every thing after a specific location we just use:\n",
    "print (Noor_list[:-1])\n",
    "print (Noor_list[0:])\n",
    "#see if we print from the end it will ignore the number that we specifiy not like if we count from the begining where it will \n",
    "#keep the first value with the selection\n",
    "\n",
    "print (Noor_list[0:2])\n",
    "#it ignored the last value that we specify"
   ]
  },
  {
   "cell_type": "markdown",
   "id": "537debaf",
   "metadata": {},
   "source": [
    "<a id='Mathmatical functions'></a>\n",
    "### Mathmatical functions "
   ]
  },
  {
   "cell_type": "markdown",
   "id": "dc6b57f7",
   "metadata": {},
   "source": [
    "#### Built in funcrions"
   ]
  },
  {
   "cell_type": "code",
   "execution_count": null,
   "id": "32c806ab",
   "metadata": {},
   "outputs": [],
   "source": [
    "#Operator    Name               Description\n",
    "#a + b       Addition          Sum of a and b\n",
    "#a - b       Subtraction       Difference of a and b\n",
    "#a * b       Multiplication    Product of a and b\n",
    "#a / b       True division     Quotient of a and b\n",
    "#a // b      Floor division    Quotient of a and b, removing fractional parts\n",
    "#a % b       Modulus           Integer  remainder after division of a by b\n",
    "#a ** b      Exponentiation     a raised to the power of b\n",
    "#-a          Negation          The negative of a"
   ]
  },
  {
   "cell_type": "code",
   "execution_count": null,
   "id": "e2d2dfbe",
   "metadata": {},
   "outputs": [],
   "source": [
    "#bsolute \n",
    "print (abs(-3))\n",
    "\n",
    "#raise to the power of a number\n",
    "print (pow(3,2))\n",
    "\n",
    "#the maximum number\n",
    "print (max(1,5,20))\n",
    "\n",
    "#the minimum\n",
    "print (min(1,5,20))"
   ]
  },
  {
   "cell_type": "markdown",
   "id": "24b7cacc",
   "metadata": {},
   "source": [
    "#### Math Library"
   ]
  },
  {
   "cell_type": "code",
   "execution_count": null,
   "id": "06aecfb4",
   "metadata": {},
   "outputs": [],
   "source": [
    "#if we want some extra mathematecal functions we need to import math module\n",
    "# to import math module \n",
    "from math import *\n",
    "print (round(5.5))\n",
    "\n",
    "#to chose the whole number only\n",
    "print (floor(5.5))\n",
    "\n",
    "#to make to the nearest upper absollute number\n",
    "print (ceil(5.2))\n",
    "\n",
    "#to get the square root\n",
    "print (sqrt(9))"
   ]
  },
  {
   "cell_type": "markdown",
   "id": "c12454a5",
   "metadata": {},
   "source": [
    "<a id='Input'></a>\n",
    "### Input"
   ]
  },
  {
   "cell_type": "code",
   "execution_count": null,
   "id": "3211b587",
   "metadata": {},
   "outputs": [],
   "source": [
    "# input function: (when we run the cell with input python is going to take it as string)\n",
    "kid_name = input(\"what is your kid's name? \") \n",
    "print (\"hello \" + kid_name)"
   ]
  },
  {
   "cell_type": "code",
   "execution_count": null,
   "id": "0ca93e95",
   "metadata": {},
   "outputs": [],
   "source": [
    "name = input(\"name \")\n",
    "print(len(name))"
   ]
  },
  {
   "cell_type": "markdown",
   "id": "e8274ca1",
   "metadata": {},
   "source": [
    "<a id='Define function & return statement'></a>\n",
    "## Define function & return statement"
   ]
  },
  {
   "cell_type": "code",
   "execution_count": null,
   "id": "2fd03c8e",
   "metadata": {},
   "outputs": [],
   "source": [
    "#to define a function for calculating the total\n",
    "def add(x,y):\n",
    "    print (x+y)\n",
    "add(5,7)"
   ]
  },
  {
   "cell_type": "code",
   "execution_count": null,
   "id": "9a0b0a21",
   "metadata": {},
   "outputs": [],
   "source": [
    "#to define a function to calculate the cubic number \n",
    "def cube (num):\n",
    "    return num*num*num\n",
    "cube(3)"
   ]
  },
  {
   "cell_type": "code",
   "execution_count": null,
   "id": "629a1cb5",
   "metadata": {},
   "outputs": [],
   "source": [
    "#to define a function that ask for the number and make the cubic number of it\n",
    "def cube (num):\n",
    "    return num*num*num\n",
    "num = input(\"what is the num? \")\n",
    "num = float(num)\n",
    "cube(num)"
   ]
  },
  {
   "cell_type": "code",
   "execution_count": null,
   "id": "14bd49fe",
   "metadata": {},
   "outputs": [],
   "source": [
    "# to define a function to greet some one\n",
    "def greet (name):\n",
    "    print (\"Hello \" + name)\n",
    "greet (\"Alyaa\")"
   ]
  },
  {
   "cell_type": "code",
   "execution_count": null,
   "id": "48cce8b7",
   "metadata": {},
   "outputs": [],
   "source": [
    "def welcome_phrase(user_no):\n",
    "    name = input(\"what's your name \" + str(user_no))\n",
    "    print(\"hello \" + name)\n",
    "    birth_year = input(\"what is your year of birth?\")\n",
    "    age = 2022-int(birth_year)\n",
    "    print(\"so you are \" + str(age) + \" years old\")\n",
    "    print (\"how can I help you?\")   "
   ]
  },
  {
   "cell_type": "code",
   "execution_count": null,
   "id": "13960035",
   "metadata": {},
   "outputs": [],
   "source": [
    "welcome_phrase(\"user_1\")"
   ]
  },
  {
   "cell_type": "code",
   "execution_count": null,
   "id": "1efe4b84",
   "metadata": {},
   "outputs": [],
   "source": [
    "#to define a function without a positional argument we just use empty()\n",
    "def welcome_phrase_1():\n",
    "    name = input(\"what's your name user? \")\n",
    "    print(\"hello \" + name)"
   ]
  },
  {
   "cell_type": "code",
   "execution_count": null,
   "id": "fe260c1d",
   "metadata": {},
   "outputs": [],
   "source": [
    "welcome_phrase_1()"
   ]
  },
  {
   "cell_type": "code",
   "execution_count": null,
   "id": "62bfa79c",
   "metadata": {},
   "outputs": [],
   "source": [
    "# define a function with multiple parameters\n",
    "def add_3 (choice_1 , choice_2, choice_3):\n",
    "    all = choice_1 + choice_2 + choice_3\n",
    "    print (all)\n",
    "add_3 (1,6,1)"
   ]
  },
  {
   "cell_type": "markdown",
   "id": "496abcd8",
   "metadata": {},
   "source": [
    "<a id='If Statement'></a>\n",
    "## If Statement"
   ]
  },
  {
   "cell_type": "code",
   "execution_count": null,
   "id": "760223bf",
   "metadata": {},
   "outputs": [],
   "source": [
    "a = input(\"insert your number\")\n",
    "a = float (a)\n",
    "if a == 1 or a == 2:\n",
    "    print (\"number is less than 3\")\n",
    "elif a > 3 and not a > 10 :\n",
    "    print (\"number is bigger than 3 and less than 11\")\n",
    "else:\n",
    "    print (\"number is bigger than 10\")"
   ]
  },
  {
   "cell_type": "markdown",
   "id": "6207e619",
   "metadata": {},
   "source": [
    "### Making a translator"
   ]
  },
  {
   "cell_type": "code",
   "execution_count": null,
   "id": "832c2c06",
   "metadata": {},
   "outputs": [],
   "source": [
    "def translate(phrase):\n",
    "    translation = \"\"\n",
    "    for letter in phrase:\n",
    "        if letter in \"AEIOUaeiou\":\n",
    "            if letter.isupper():\n",
    "                translation = translation +\"G\"\n",
    "            else:\n",
    "                translation = translation + \"g\"\n",
    "        else:\n",
    "            translation = translation + letter\n",
    "    return translation\n",
    "print(translate(input(\"please inter a phrase to translate \")))"
   ]
  },
  {
   "cell_type": "markdown",
   "id": "fd3df7ab",
   "metadata": {},
   "source": [
    "<a id='While loop'></a>\n",
    "## while loop"
   ]
  },
  {
   "cell_type": "code",
   "execution_count": null,
   "id": "6271f6a0",
   "metadata": {},
   "outputs": [],
   "source": [
    "a = 11\n",
    "while a > 1:\n",
    "    a -=1\n",
    "    print (a)\n",
    "print(\"done\")"
   ]
  },
  {
   "cell_type": "code",
   "execution_count": null,
   "id": "ed4699a6",
   "metadata": {
    "scrolled": true
   },
   "outputs": [],
   "source": [
    "name = \"jana\"\n",
    "i = input(\"suggested_name \")\n",
    "let_list = []\n",
    "trial_no = 1\n",
    "while i != name and  trial_no < 5:\n",
    "    let_list.append(i[trial_no])\n",
    "    print(trial_no)\n",
    "    print (let_list)\n",
    "    trial_no = trial_no + 1\n",
    "    i = input(\"name\")\n",
    "print (\"game over\")"
   ]
  },
  {
   "cell_type": "code",
   "execution_count": null,
   "id": "b7b174f3",
   "metadata": {},
   "outputs": [],
   "source": [
    "#the below code should be for a game it's working as a code but the game is wrong\n",
    "name = input (\"give a name to guess \")\n",
    "suggested_name = input(\"suggested_name \")\n",
    "letter_list = []\n",
    "trial_no = 1\n",
    "while suggested_name != name and  trial_no < 5:\n",
    "    letter_list.append(suggested_name)\n",
    "    print(\"trial number \" + str(trial_no))\n",
    "    print (letter_list)\n",
    "    trial_no += 1\n",
    "    suggested_name = input(\"name \")\n",
    "\n",
    "print (\"game over\")"
   ]
  },
  {
   "cell_type": "markdown",
   "id": "fe019da4",
   "metadata": {},
   "source": [
    "<a id='For loops'></a>\n",
    "## For loops"
   ]
  },
  {
   "cell_type": "code",
   "execution_count": null,
   "id": "24824920",
   "metadata": {},
   "outputs": [],
   "source": [
    "#Loop-1\n",
    "numbers = [1,2,3,4,5]\n",
    "for a in  (numbers):\n",
    "    if a != 4:\n",
    "        print (float(a))"
   ]
  },
  {
   "cell_type": "code",
   "execution_count": null,
   "id": "752e51f1",
   "metadata": {},
   "outputs": [],
   "source": [
    "#Loop-2\n",
    "for i in range (3):\n",
    "    num = input(\"insert your number\")\n",
    "    if float(num) != 4:\n",
    "        print (float(num))"
   ]
  },
  {
   "cell_type": "code",
   "execution_count": null,
   "id": "ff0bbf0d",
   "metadata": {},
   "outputs": [],
   "source": [
    "#Loop-3\n",
    "numbers = [1,2,3]\n",
    "for a in  (numbers):\n",
    "    num = input(\"insert your number \")\n",
    "    num = float(num) + float(a)\n",
    "    if float(num) != 4:\n",
    "        print (float(num))"
   ]
  },
  {
   "cell_type": "code",
   "execution_count": null,
   "id": "87b5232f",
   "metadata": {},
   "outputs": [],
   "source": [
    "#Loop-4\n",
    "numbers = [1,2,3,4,5]\n",
    "b = 0\n",
    "for i in range (3):\n",
    "    num = input(\"insert your number\")\n",
    "    if float(num) in numbers:\n",
    "        b = b + float(num)\n",
    "print (b)"
   ]
  },
  {
   "cell_type": "code",
   "execution_count": null,
   "id": "7baae717",
   "metadata": {},
   "outputs": [],
   "source": [
    "def raise_to_power (num, power):\n",
    "    result = 1\n",
    "    for i in range (power):\n",
    "        result = result * num\n",
    "    return result\n",
    "raise_to_power (2,3)"
   ]
  },
  {
   "cell_type": "code",
   "execution_count": null,
   "id": "9d9c3d7f",
   "metadata": {},
   "outputs": [],
   "source": [
    "name = \"jana\"\n",
    "print(name[3])"
   ]
  },
  {
   "cell_type": "markdown",
   "id": "864dc578",
   "metadata": {},
   "source": [
    "<a id='Try/ Except'></a>\n",
    "## Try/ Except"
   ]
  },
  {
   "cell_type": "code",
   "execution_count": null,
   "id": "bddc0f48",
   "metadata": {},
   "outputs": [],
   "source": [
    "try:\n",
    "    number = int(input(\"enter a number: \"))\n",
    "    value = 10/0\n",
    "    print (number)\n",
    "except ZeroDivisionError :\n",
    "    print(\"Divided by Zero\")\n",
    "except :\n",
    "    print(\"invalid input\")"
   ]
  },
  {
   "cell_type": "code",
   "execution_count": null,
   "id": "b6410ee6",
   "metadata": {},
   "outputs": [],
   "source": [
    "try:\n",
    "    number = int(input(\"enter a number: \"))\n",
    "    value = 10/0\n",
    "    print (number)\n",
    "except ZeroDivisionError as err :\n",
    "    print(err)\n",
    "except :\n",
    "    print(\"invalid input\")"
   ]
  },
  {
   "cell_type": "markdown",
   "id": "44bb41b3",
   "metadata": {},
   "source": [
    "<a id='Open, read and close files'></a>\n",
    "## Open, read and close files"
   ]
  },
  {
   "cell_type": "code",
   "execution_count": null,
   "id": "63dfc1db",
   "metadata": {},
   "outputs": [],
   "source": [
    "#w : write, a : append, r: read\n",
    "file_1 = open(\"file_1\" , \"w\")\n",
    "file_1.write(\"Alyaa - 40\")\n",
    "file_1.write(\"\\nJana - 13\")\n",
    "file_1.write(\"\\nMaryam - 10\")\n",
    "file_1.write(\"\\nNoor - 6\")\n",
    "file_1.close()"
   ]
  },
  {
   "cell_type": "markdown",
   "id": "33adefc7",
   "metadata": {},
   "source": [
    "# making a list of a given name or phrase"
   ]
  },
  {
   "cell_type": "code",
   "execution_count": null,
   "id": "b9c064ef",
   "metadata": {},
   "outputs": [],
   "source": [
    "#Step 1(make an array with the letters in the given name)\n",
    "#option 1\n",
    "letters_list = []\n",
    "def str_to_list(name):\n",
    "    print (len(name))\n",
    "    print(name)\n",
    "    for a in name:\n",
    "        letters_list.append(a)\n",
    "    print(letters_list)\n",
    "    \n",
    "str_to_list(\"alyaa 1982\")"
   ]
  },
  {
   "cell_type": "code",
   "execution_count": null,
   "id": "4fbce303",
   "metadata": {},
   "outputs": [],
   "source": [
    "#Step 1 option 2\n",
    "name = input(\"insert name \")\n",
    "for i in range (len(name)):\n",
    "        letter = name[i]\n",
    "        print (letter)"
   ]
  },
  {
   "cell_type": "code",
   "execution_count": null,
   "id": "eb65f341",
   "metadata": {},
   "outputs": [],
   "source": [
    "num = input()\n",
    "num.isdigit()"
   ]
  },
  {
   "cell_type": "code",
   "execution_count": null,
   "id": "68c3728b",
   "metadata": {},
   "outputs": [],
   "source": [
    "a = input()\n",
    "if a.isdigit():\n",
    "    print (\"is digit\")\n",
    "else: \n",
    "    print (\"is not\")"
   ]
  },
  {
   "cell_type": "markdown",
   "id": "f971d025",
   "metadata": {},
   "source": [
    "## Removing elements from the list"
   ]
  },
  {
   "cell_type": "code",
   "execution_count": null,
   "id": "6d81e09e",
   "metadata": {},
   "outputs": [],
   "source": [
    "letters_list = []\n",
    "b = 'alyaa 1982'\n",
    "for a in b:\n",
    "    if a != ' ':\n",
    "        letters_list.append(a)\n",
    "print (letters_list)\n",
    "type (letters_list)"
   ]
  },
  {
   "cell_type": "markdown",
   "id": "99713f46",
   "metadata": {},
   "source": [
    "# Finish till here"
   ]
  },
  {
   "cell_type": "code",
   "execution_count": null,
   "id": "eed2560a",
   "metadata": {},
   "outputs": [],
   "source": [
    "#this code is not running true, to be discussed later and to see \n",
    "#how to remove numbers from a given text\n",
    "letters_list = []\n",
    "b = \"alay 1982\"\n",
    "for a in b:\n",
    "    if a != \" \" :\n",
    "        letters_list.append(a)\n",
    "for a in (letters_list):\n",
    "    if a.isalpha() == True:\n",
    "        print ('true')\n",
    "        letters_list.remove(a)\n",
    "    else:\n",
    "        print (\"false\")\n",
    "        \n",
    "print(letters_list)   "
   ]
  },
  {
   "cell_type": "code",
   "execution_count": null,
   "id": "a56ceb25",
   "metadata": {},
   "outputs": [],
   "source": []
  },
  {
   "cell_type": "markdown",
   "id": "d74e1b4d",
   "metadata": {},
   "source": [
    "# sklearn Naive Bayes"
   ]
  },
  {
   "cell_type": "markdown",
   "id": "55e8f819",
   "metadata": {},
   "source": [
    "I am wondering how accurate this Gaussian library while in this straightforward easy example couldn't predict it right!"
   ]
  },
  {
   "cell_type": "code",
   "execution_count": null,
   "id": "85e1fe5d",
   "metadata": {},
   "outputs": [],
   "source": [
    "#this is a wrong prediction\n",
    "import numpy as np\n",
    "x = np.array([[1,2], [3,4],[5,6],[2,1], [4,3],[6,5]])\n",
    "y = np.array([2,2,2,1,1,1])\n",
    "from sklearn.naive_bayes import GaussianNB\n",
    "clf = GaussianNB()\n",
    "clf.fit(x,y)\n",
    "GaussianNB\n",
    "print(clf.predict([[5,4]]))"
   ]
  },
  {
   "cell_type": "code",
   "execution_count": null,
   "id": "c830aeb9",
   "metadata": {},
   "outputs": [],
   "source": [
    "#this is a correct prediction \n",
    "import numpy as np\n",
    "x = np.array([[1,2], [3,4], [5,6],[2,1], [4,3],[5,4]])\n",
    "y = np.array([2,2,2,1,1,1])\n",
    "from sklearn.naive_bayes import GaussianNB\n",
    "clf = GaussianNB()\n",
    "clf.fit(x,y)\n",
    "GaussianNB\n",
    "print(clf.predict([[6,5]]))"
   ]
  },
  {
   "cell_type": "code",
   "execution_count": null,
   "id": "e5b263a2",
   "metadata": {},
   "outputs": [],
   "source": [
    "#this is a wrong prediction\n",
    "x = np.array([[1,2],[3,4],[5,6],[7,8],[2,1], [4,3],[6,5]])\n",
    "y = np.array([2,2,2,2,1,1,1])\n",
    "clf = GaussianNB()\n",
    "clf.fit(x,y)\n",
    "print(clf.predict([[5,4]]))"
   ]
  },
  {
   "cell_type": "code",
   "execution_count": null,
   "id": "2966fdd1",
   "metadata": {},
   "outputs": [],
   "source": [
    "#this is a wrong prediction\n",
    "import numpy as np\n",
    "from sklearn.naive_bayes import GaussianNB\n",
    "\n",
    "x = np.array([[1,2],[3,4],[5,6],[7,8],[9,10],[2,1],[4,3],[6,5],[8,7],[10,9]])\n",
    "y = np.array([2,2,2,2,2,1,1,1,1,1])\n",
    "clf = GaussianNB()\n",
    "clf.fit(x,y)\n",
    "print(clf.predict([[5,4]]))"
   ]
  },
  {
   "cell_type": "code",
   "execution_count": null,
   "id": "adb7679b",
   "metadata": {},
   "outputs": [],
   "source": []
  },
  {
   "cell_type": "markdown",
   "id": "b4a9e8c5",
   "metadata": {},
   "source": [
    "# Numpy"
   ]
  },
  {
   "cell_type": "code",
   "execution_count": null,
   "id": "0948509c",
   "metadata": {},
   "outputs": [],
   "source": [
    "import numpy as np"
   ]
  },
  {
   "cell_type": "code",
   "execution_count": null,
   "id": "bbc201b3",
   "metadata": {},
   "outputs": [],
   "source": [
    "#Numpy Array\n",
    "A = np.array([[1,2], [3,4], [5,6],[7,8],[9,10]])\n",
    "A"
   ]
  },
  {
   "cell_type": "code",
   "execution_count": null,
   "id": "a27e6182",
   "metadata": {},
   "outputs": [],
   "source": [
    "#Numpy Array\n",
    "B = np.array ([1,2,1,2,1,2])\n",
    "B"
   ]
  },
  {
   "cell_type": "markdown",
   "id": "1b69f4bb",
   "metadata": {},
   "source": [
    "# a game for fun:\n",
    " 2 players will play a game that they define a replacement for the origional letters then they will speek to each other with the\n",
    "    new defined letters with scores if someone made a mistake then the other one will replace a new letter and the other player\n",
    "    should know what is that changed letter, the game will start with 3 letters to be changed"
   ]
  }
 ],
 "metadata": {
  "kernelspec": {
   "display_name": "Python 3 (ipykernel)",
   "language": "python",
   "name": "python3"
  },
  "language_info": {
   "codemirror_mode": {
    "name": "ipython",
    "version": 3
   },
   "file_extension": ".py",
   "mimetype": "text/x-python",
   "name": "python",
   "nbconvert_exporter": "python",
   "pygments_lexer": "ipython3",
   "version": "3.9.12"
  }
 },
 "nbformat": 4,
 "nbformat_minor": 5
}
