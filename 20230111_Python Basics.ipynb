{
 "cells": [
  {
   "cell_type": "markdown",
   "metadata": {},
   "source": [
    "# Python"
   ]
  },
  {
   "cell_type": "markdown",
   "metadata": {},
   "source": [
    "This notebook is written based on the tutorial on youtube:\n",
    "\n",
    "[(Learn Python - Full Course for Beginners [Tutorial]) ](https://youtu.be/rfscVS0vtbw)"
   ]
  },
  {
   "cell_type": "markdown",
   "metadata": {
    "execution": {
     "iopub.execute_input": "2022-09-10T15:56:37.752354Z",
     "iopub.status.busy": "2022-09-10T15:56:37.751585Z",
     "iopub.status.idle": "2022-09-10T15:56:37.755139Z",
     "shell.execute_reply": "2022-09-10T15:56:37.754504Z",
     "shell.execute_reply.started": "2022-09-10T15:56:37.752321Z"
    }
   },
   "source": [
    "## Table Of Content\n",
    "\n",
    "* [Genreal Notes](#1)\n",
    "* [Import modules & Pip](#2)\n",
    "* [Python data](#3)\n",
    "* [Data type conversion](#4)\n",
    "* [Python Functions](#5)\n",
    "    *  [print](#6)  \n",
    "    *  [Mathmatical functions ](#7)\n",
    "    *  [Input](#8) \n",
    "    *  [Define function & return statement](#9)\n",
    "    *  [If Statement](#10) \n",
    "    *  [While loop](#11) \n",
    "    *  [For loop](#12) \n",
    "    *  [Try/ Except](#13) \n",
    "* [Open, read and close files](#14)\n",
    "* [Numpy](#15)\n",
    "* [Various codes ](#16)\n"
   ]
  },
  {
   "cell_type": "markdown",
   "metadata": {},
   "source": [
    "<a id=\"1\"></a> <br>\n",
    "# Genreal Notes:\n",
    "Types of cells:\n",
    "\n",
    "*    Code: we can change the cell to markdown by pressing y on the keyboard.\n",
    "*    Markdown: we can change the cell to markdown by pressing m.\n",
    "*    Heading: we can use # for heading 1, ## for heading 2 and so on."
   ]
  },
  {
   "cell_type": "markdown",
   "metadata": {},
   "source": [
    "<a id=\"2\"></a> <br>\n",
    "# Import modules & Pip"
   ]
  },
  {
   "cell_type": "markdown",
   "metadata": {
    "execution": {
     "iopub.execute_input": "2022-09-10T16:15:44.194976Z",
     "iopub.status.busy": "2022-09-10T16:15:44.194521Z",
     "iopub.status.idle": "2022-09-10T16:15:44.198711Z",
     "shell.execute_reply": "2022-09-10T16:15:44.198126Z",
     "shell.execute_reply.started": "2022-09-10T16:15:44.194918Z"
    }
   },
   "source": [
    "* to install or uninstaal external modules we use the pip install\n",
    "* pip install module\n",
    "* example: pip install python-docx\n",
    "* pip uninstall module\n",
    "* example: pip uninstall python-docxm\n",
    "* then we use import to import the module to the file.\n",
    "* **[list of python modules in this link](https://docs.python.org/3/py-modindex.html)**"
   ]
  },
  {
   "cell_type": "code",
   "execution_count": 1,
   "metadata": {
    "execution": {
     "iopub.execute_input": "2023-01-11T18:33:33.833794Z",
     "iopub.status.busy": "2023-01-11T18:33:33.831549Z",
     "iopub.status.idle": "2023-01-11T18:33:33.856873Z",
     "shell.execute_reply": "2023-01-11T18:33:33.855981Z",
     "shell.execute_reply.started": "2023-01-11T18:33:33.833682Z"
    }
   },
   "outputs": [],
   "source": [
    "import numpy as np"
   ]
  },
  {
   "cell_type": "code",
   "execution_count": 2,
   "metadata": {
    "execution": {
     "iopub.execute_input": "2023-01-11T18:33:33.858908Z",
     "iopub.status.busy": "2023-01-11T18:33:33.858355Z",
     "iopub.status.idle": "2023-01-11T18:33:33.862865Z",
     "shell.execute_reply": "2023-01-11T18:33:33.861963Z",
     "shell.execute_reply.started": "2023-01-11T18:33:33.858870Z"
    }
   },
   "outputs": [],
   "source": [
    "import pandas as pd"
   ]
  },
  {
   "cell_type": "markdown",
   "metadata": {},
   "source": [
    "<a id=\"3\"></a> <br>\n",
    "# Python data:"
   ]
  },
  {
   "cell_type": "markdown",
   "metadata": {},
   "source": [
    "### String"
   ]
  },
  {
   "cell_type": "code",
   "execution_count": 3,
   "metadata": {
    "execution": {
     "iopub.execute_input": "2023-01-11T18:33:33.864577Z",
     "iopub.status.busy": "2023-01-11T18:33:33.864225Z",
     "iopub.status.idle": "2023-01-11T18:33:33.876572Z",
     "shell.execute_reply": "2023-01-11T18:33:33.875455Z",
     "shell.execute_reply.started": "2023-01-11T18:33:33.864546Z"
    }
   },
   "outputs": [
    {
     "data": {
      "text/plain": [
       "'Maryam'"
      ]
     },
     "execution_count": 3,
     "metadata": {},
     "output_type": "execute_result"
    }
   ],
   "source": [
    "#Strings: strings mean any text that we want to print as it is and \n",
    "#it should be between parentheses\n",
    "fig_name = \"Maryam\" \n",
    "#to print out the string that we made we just type in it's name and it will be shown under the cell\n",
    "fig_name"
   ]
  },
  {
   "cell_type": "markdown",
   "metadata": {},
   "source": [
    "### Numbers"
   ]
  },
  {
   "cell_type": "code",
   "execution_count": 4,
   "metadata": {
    "execution": {
     "iopub.execute_input": "2023-01-11T18:33:33.880176Z",
     "iopub.status.busy": "2023-01-11T18:33:33.879208Z",
     "iopub.status.idle": "2023-01-11T18:33:33.885570Z",
     "shell.execute_reply": "2023-01-11T18:33:33.884955Z",
     "shell.execute_reply.started": "2023-01-11T18:33:33.880140Z"
    }
   },
   "outputs": [
    {
     "data": {
      "text/plain": [
       "10"
      ]
     },
     "execution_count": 4,
     "metadata": {},
     "output_type": "execute_result"
    }
   ],
   "source": [
    "#Numbers\n",
    "child_age = 10\n",
    "child_age"
   ]
  },
  {
   "cell_type": "markdown",
   "metadata": {},
   "source": [
    "### Boolean"
   ]
  },
  {
   "cell_type": "code",
   "execution_count": 5,
   "metadata": {
    "execution": {
     "iopub.execute_input": "2023-01-11T18:33:33.887142Z",
     "iopub.status.busy": "2023-01-11T18:33:33.886683Z",
     "iopub.status.idle": "2023-01-11T18:33:33.896733Z",
     "shell.execute_reply": "2023-01-11T18:33:33.895645Z",
     "shell.execute_reply.started": "2023-01-11T18:33:33.887110Z"
    }
   },
   "outputs": [
    {
     "data": {
      "text/plain": [
       "True"
      ]
     },
     "execution_count": 5,
     "metadata": {},
     "output_type": "execute_result"
    }
   ],
   "source": [
    "#Booleans: mean the thing that we want to know is true or false\n",
    "is_child = True\n",
    "is_adult = False\n",
    "is_child"
   ]
  },
  {
   "cell_type": "markdown",
   "metadata": {},
   "source": [
    "### Dictinary"
   ]
  },
  {
   "cell_type": "code",
   "execution_count": 6,
   "metadata": {
    "execution": {
     "iopub.execute_input": "2023-01-11T18:33:33.898958Z",
     "iopub.status.busy": "2023-01-11T18:33:33.898126Z",
     "iopub.status.idle": "2023-01-11T18:33:33.906619Z",
     "shell.execute_reply": "2023-01-11T18:33:33.905733Z",
     "shell.execute_reply.started": "2023-01-11T18:33:33.898916Z"
    }
   },
   "outputs": [
    {
     "name": "stdout",
     "output_type": "stream",
     "text": [
      "{'sa': 'saturday', 'su': 'sunday', 'mo': 'monday', 'tu': 'tuesday', 'we': 'wednesday', 'Th': 'thursday', 'fr': 'friday'}\n",
      "saturday monday\n",
      "not a valid data\n"
     ]
    }
   ],
   "source": [
    "days = {\n",
    "    \"sa\" : \"saturday\",\n",
    "    \"su\" : \"sunday\",\n",
    "    \"mo\" : \"monday\",\n",
    "    \"tu\" : \"tuesday\",\n",
    "    \"we\" : \"wednesday\",\n",
    "    \"Th\" : \"thursday\",\n",
    "    \"fr\" : \"friday\"\n",
    "    }\n",
    "print(days)\n",
    "print(days[\"sa\"], days[\"mo\"])\n",
    "print(days.get(\"fri\", \"not a valid data\"))"
   ]
  },
  {
   "cell_type": "code",
   "execution_count": 7,
   "metadata": {
    "execution": {
     "iopub.execute_input": "2023-01-11T18:33:33.908213Z",
     "iopub.status.busy": "2023-01-11T18:33:33.907844Z",
     "iopub.status.idle": "2023-01-11T18:33:33.916347Z",
     "shell.execute_reply": "2023-01-11T18:33:33.915518Z",
     "shell.execute_reply.started": "2023-01-11T18:33:33.908182Z"
    }
   },
   "outputs": [
    {
     "name": "stdout",
     "output_type": "stream",
     "text": [
      "{1: 'I am good', 2: 'I am sad', 3: 'I am ok'}\n",
      "I am sad\n",
      "I am ok\n"
     ]
    }
   ],
   "source": [
    "howareyou = {\n",
    "    1 : \"I am good\",\n",
    "    2 : \"I am sad\",\n",
    "    3 : \"I am ok\"\n",
    "    }\n",
    "print(howareyou)\n",
    "print(howareyou[2])\n",
    "print(howareyou.get(3))"
   ]
  },
  {
   "cell_type": "code",
   "execution_count": 8,
   "metadata": {
    "execution": {
     "iopub.execute_input": "2023-01-11T18:33:33.918128Z",
     "iopub.status.busy": "2023-01-11T18:33:33.917558Z",
     "iopub.status.idle": "2023-01-11T18:33:33.925615Z",
     "shell.execute_reply": "2023-01-11T18:33:33.924717Z",
     "shell.execute_reply.started": "2023-01-11T18:33:33.918075Z"
    }
   },
   "outputs": [
    {
     "name": "stdout",
     "output_type": "stream",
     "text": [
      "<class 'str'>\n",
      "<class 'int'>\n",
      "<class 'dict'>\n"
     ]
    }
   ],
   "source": [
    "#To know the type of the cell we use (type)\n",
    "print (type(fig_name))\n",
    "print (type(child_age))\n",
    "print (type(howareyou))"
   ]
  },
  {
   "cell_type": "markdown",
   "metadata": {},
   "source": [
    "### Python List"
   ]
  },
  {
   "cell_type": "code",
   "execution_count": 9,
   "metadata": {
    "execution": {
     "iopub.execute_input": "2023-01-11T18:33:33.927544Z",
     "iopub.status.busy": "2023-01-11T18:33:33.926919Z",
     "iopub.status.idle": "2023-01-11T18:33:33.936274Z",
     "shell.execute_reply": "2023-01-11T18:33:33.935389Z",
     "shell.execute_reply.started": "2023-01-11T18:33:33.927511Z"
    }
   },
   "outputs": [
    {
     "data": {
      "text/plain": [
       "['Noor', 2009, True]"
      ]
     },
     "execution_count": 9,
     "metadata": {},
     "output_type": "execute_result"
    }
   ],
   "source": [
    "#It could contain any type of data, we use [] to creat it, we then can assign any value to the list.\n",
    "Jana_info = [\"Jana\" , 2009 , True]\n",
    "Maryam_info = [\"Maryam\" , 2012 , False]\n",
    "Noor_info = [\"Noor\" , 2009 , True]\n",
    "Noor_info"
   ]
  },
  {
   "cell_type": "code",
   "execution_count": 10,
   "metadata": {
    "execution": {
     "iopub.execute_input": "2023-01-11T18:33:33.939479Z",
     "iopub.status.busy": "2023-01-11T18:33:33.938734Z",
     "iopub.status.idle": "2023-01-11T18:33:33.945350Z",
     "shell.execute_reply": "2023-01-11T18:33:33.944484Z",
     "shell.execute_reply.started": "2023-01-11T18:33:33.939434Z"
    }
   },
   "outputs": [
    {
     "name": "stdout",
     "output_type": "stream",
     "text": [
      "Jana\n"
     ]
    }
   ],
   "source": [
    "#print a specific element in the list\n",
    "print(Jana_info[0])"
   ]
  },
  {
   "cell_type": "code",
   "execution_count": 11,
   "metadata": {
    "execution": {
     "iopub.execute_input": "2023-01-11T18:33:33.946828Z",
     "iopub.status.busy": "2023-01-11T18:33:33.946493Z",
     "iopub.status.idle": "2023-01-11T18:33:33.955070Z",
     "shell.execute_reply": "2023-01-11T18:33:33.954081Z",
     "shell.execute_reply.started": "2023-01-11T18:33:33.946799Z"
    }
   },
   "outputs": [
    {
     "name": "stdout",
     "output_type": "stream",
     "text": [
      "['Janjoona', 2009, True]\n"
     ]
    }
   ],
   "source": [
    "#change a specific element in the list\n",
    "Jana_info[0] = \"Janjoona\"\n",
    "print(Jana_info)"
   ]
  },
  {
   "cell_type": "code",
   "execution_count": 12,
   "metadata": {
    "execution": {
     "iopub.execute_input": "2023-01-11T18:33:33.957281Z",
     "iopub.status.busy": "2023-01-11T18:33:33.956286Z",
     "iopub.status.idle": "2023-01-11T18:33:33.967157Z",
     "shell.execute_reply": "2023-01-11T18:33:33.966185Z",
     "shell.execute_reply.started": "2023-01-11T18:33:33.957229Z"
    }
   },
   "outputs": [
    {
     "name": "stdout",
     "output_type": "stream",
     "text": [
      "7\n",
      "[7, 8, 9] [1, 2, 3] [1]\n",
      "[1, 2, 3]\n",
      "[4, 5, 6]\n",
      "[7, 8, 9]\n",
      "[0]\n",
      "1\n",
      "2\n",
      "3\n",
      "4\n",
      "5\n",
      "6\n",
      "7\n",
      "8\n",
      "9\n",
      "0\n"
     ]
    }
   ],
   "source": [
    "#list can also be 2 dimensional\n",
    "number = [\n",
    "    [1,2,3],\n",
    "    [4,5,6],\n",
    "    [7,8,9],\n",
    "    [0]  \n",
    "]\n",
    "print(number[2][0])\n",
    "print(number[2],number[0],[1])\n",
    "for row in number:\n",
    "    print(row)\n",
    "for row in number:\n",
    "    for col in row:\n",
    "        print (col)"
   ]
  },
  {
   "cell_type": "code",
   "execution_count": 13,
   "metadata": {
    "execution": {
     "iopub.execute_input": "2023-01-11T18:33:33.968697Z",
     "iopub.status.busy": "2023-01-11T18:33:33.968355Z",
     "iopub.status.idle": "2023-01-11T18:33:33.975253Z",
     "shell.execute_reply": "2023-01-11T18:33:33.974373Z",
     "shell.execute_reply.started": "2023-01-11T18:33:33.968669Z"
    }
   },
   "outputs": [
    {
     "name": "stdout",
     "output_type": "stream",
     "text": [
      "[3, 3, 3, 2, 2, 2]\n"
     ]
    }
   ],
   "source": [
    "# Extend a list with another\n",
    "Jana_list = [3,3,3]\n",
    "Maryam_list = [2,2,2]\n",
    "Noor_list = [1,1,1]\n",
    "Jana_list.extend(Maryam_list)\n",
    "print(Jana_list)\n",
    "#if we repeted this function again and again it will keep adding Maryam_list to Jana_list, so the extend function will change\n",
    "#the origional list for ever not only for this cell"
   ]
  },
  {
   "cell_type": "code",
   "execution_count": 14,
   "metadata": {
    "execution": {
     "iopub.execute_input": "2023-01-11T18:33:33.976826Z",
     "iopub.status.busy": "2023-01-11T18:33:33.976517Z",
     "iopub.status.idle": "2023-01-11T18:33:33.985719Z",
     "shell.execute_reply": "2023-01-11T18:33:33.984691Z",
     "shell.execute_reply.started": "2023-01-11T18:33:33.976797Z"
    }
   },
   "outputs": [
    {
     "name": "stdout",
     "output_type": "stream",
     "text": [
      "[3, 3, 3, 2, 2, 2, 'Alyaa']\n"
     ]
    }
   ],
   "source": [
    "# Append a value to the end of the list\n",
    "Jana_list.append(\"Alyaa\")\n",
    "print(Jana_list)\n",
    "# append also change the original list so if we keep running this code it will \n",
    "#keep adding alyaa to the end of the list"
   ]
  },
  {
   "cell_type": "code",
   "execution_count": 15,
   "metadata": {
    "execution": {
     "iopub.execute_input": "2023-01-11T18:33:33.987636Z",
     "iopub.status.busy": "2023-01-11T18:33:33.987112Z",
     "iopub.status.idle": "2023-01-11T18:33:33.998831Z",
     "shell.execute_reply": "2023-01-11T18:33:33.997967Z",
     "shell.execute_reply.started": "2023-01-11T18:33:33.987592Z"
    }
   },
   "outputs": [
    {
     "name": "stdout",
     "output_type": "stream",
     "text": [
      "['Ramiz', 3, 3, 3, 2, 2, 2, 'Alyaa']\n"
     ]
    }
   ],
   "source": [
    "# insert\n",
    "Jana_list.insert(0, \"Ramiz\")\n",
    "print(Jana_list)\n",
    "# so all function work with list will change the original values of the list"
   ]
  },
  {
   "cell_type": "code",
   "execution_count": 16,
   "metadata": {
    "execution": {
     "iopub.execute_input": "2023-01-11T18:33:34.000673Z",
     "iopub.status.busy": "2023-01-11T18:33:34.000345Z",
     "iopub.status.idle": "2023-01-11T18:33:34.008922Z",
     "shell.execute_reply": "2023-01-11T18:33:34.008045Z",
     "shell.execute_reply.started": "2023-01-11T18:33:34.000642Z"
    }
   },
   "outputs": [
    {
     "name": "stdout",
     "output_type": "stream",
     "text": [
      "['Ramiz', 3, 3, 3, 2, 2, 2, 'Alyaa']\n"
     ]
    }
   ],
   "source": [
    "# Remove an element from the list\n",
    "#Jana_list.remove(0)\n",
    "print (Jana_list)"
   ]
  },
  {
   "cell_type": "code",
   "execution_count": 17,
   "metadata": {
    "execution": {
     "iopub.execute_input": "2023-01-11T18:33:34.010620Z",
     "iopub.status.busy": "2023-01-11T18:33:34.010289Z",
     "iopub.status.idle": "2023-01-11T18:33:34.021390Z",
     "shell.execute_reply": "2023-01-11T18:33:34.020420Z",
     "shell.execute_reply.started": "2023-01-11T18:33:34.010591Z"
    }
   },
   "outputs": [
    {
     "name": "stdout",
     "output_type": "stream",
     "text": [
      "[2, 3, 4, 5]\n"
     ]
    },
    {
     "data": {
      "text/plain": [
       "[]"
      ]
     },
     "execution_count": 17,
     "metadata": {},
     "output_type": "execute_result"
    }
   ],
   "source": [
    "#pop remove an element from the list\n",
    "list = [1 , 2, 3 , 4 , 5]\n",
    "#pop function is going to remove the last element from the list\n",
    "list.pop(0)\n",
    "print (list)\n",
    "\n",
    "#clear function to clear the list\n",
    "list.clear()\n",
    "# where when we use empty () this mean that we want to choose every value inside the list \n",
    "\n",
    "list"
   ]
  },
  {
   "cell_type": "code",
   "execution_count": 18,
   "metadata": {
    "execution": {
     "iopub.execute_input": "2023-01-11T18:33:34.023260Z",
     "iopub.status.busy": "2023-01-11T18:33:34.022843Z",
     "iopub.status.idle": "2023-01-11T18:33:34.031340Z",
     "shell.execute_reply": "2023-01-11T18:33:34.030127Z",
     "shell.execute_reply.started": "2023-01-11T18:33:34.023210Z"
    }
   },
   "outputs": [
    {
     "name": "stdout",
     "output_type": "stream",
     "text": [
      "1\n",
      "2\n"
     ]
    }
   ],
   "source": [
    "# index to search for a specific value in the list\n",
    "list = [1 , 2, 3 , 4 , 4, 3 , 3 , 5]\n",
    "print (list.index(2))\n",
    "# count to find out howmany times the value repeated in the list\n",
    "print (list.count(4))"
   ]
  },
  {
   "cell_type": "code",
   "execution_count": 19,
   "metadata": {
    "execution": {
     "iopub.execute_input": "2023-01-11T18:33:34.033050Z",
     "iopub.status.busy": "2023-01-11T18:33:34.032683Z",
     "iopub.status.idle": "2023-01-11T18:33:34.043101Z",
     "shell.execute_reply": "2023-01-11T18:33:34.042178Z",
     "shell.execute_reply.started": "2023-01-11T18:33:34.033019Z"
    }
   },
   "outputs": [
    {
     "data": {
      "text/plain": [
       "['Alyaa', 'Jana', 'Maryam', 'Noor', 'Ramiz']"
      ]
     },
     "execution_count": 19,
     "metadata": {},
     "output_type": "execute_result"
    }
   ],
   "source": [
    "# sort\n",
    "list_names = [\"Ramiz\" , \"Alyaa\" , \"Jana\" , \"Maryam\" , \"Noor\"]\n",
    "list_names.sort()\n",
    "list_names"
   ]
  },
  {
   "cell_type": "code",
   "execution_count": 20,
   "metadata": {
    "execution": {
     "iopub.execute_input": "2023-01-11T18:33:34.044920Z",
     "iopub.status.busy": "2023-01-11T18:33:34.044479Z",
     "iopub.status.idle": "2023-01-11T18:33:34.054424Z",
     "shell.execute_reply": "2023-01-11T18:33:34.053467Z",
     "shell.execute_reply.started": "2023-01-11T18:33:34.044864Z"
    }
   },
   "outputs": [
    {
     "data": {
      "text/plain": [
       "['Ramiz', 'Noor', 'Maryam', 'Jana', 'Alyaa']"
      ]
     },
     "execution_count": 20,
     "metadata": {},
     "output_type": "execute_result"
    }
   ],
   "source": [
    "# reverse make the list in a reverse way no matter if it is ascending or descending \n",
    "list_names.reverse()\n",
    "list_names"
   ]
  },
  {
   "cell_type": "code",
   "execution_count": 21,
   "metadata": {
    "execution": {
     "iopub.execute_input": "2023-01-11T18:33:34.056088Z",
     "iopub.status.busy": "2023-01-11T18:33:34.055700Z",
     "iopub.status.idle": "2023-01-11T18:33:34.064101Z",
     "shell.execute_reply": "2023-01-11T18:33:34.063288Z",
     "shell.execute_reply.started": "2023-01-11T18:33:34.056057Z"
    }
   },
   "outputs": [
    {
     "data": {
      "text/plain": [
       "['Ramiz', 'Noor', 'Maryam', 'Jana', 'Alyaa']"
      ]
     },
     "execution_count": 21,
     "metadata": {},
     "output_type": "execute_result"
    }
   ],
   "source": [
    "# copy make a copy of the list exactly the same\n",
    "list_names_2 = list_names.copy()\n",
    "list_names_2"
   ]
  },
  {
   "cell_type": "markdown",
   "metadata": {},
   "source": [
    "### Python Tuples"
   ]
  },
  {
   "cell_type": "code",
   "execution_count": 22,
   "metadata": {
    "execution": {
     "iopub.execute_input": "2023-01-11T18:33:34.065746Z",
     "iopub.status.busy": "2023-01-11T18:33:34.065445Z",
     "iopub.status.idle": "2023-01-11T18:33:34.073364Z",
     "shell.execute_reply": "2023-01-11T18:33:34.072457Z",
     "shell.execute_reply.started": "2023-01-11T18:33:34.065720Z"
    }
   },
   "outputs": [
    {
     "name": "stdout",
     "output_type": "stream",
     "text": [
      "8\n"
     ]
    }
   ],
   "source": [
    "# Tuples is like list but once we create it we can not change it, we call it immutable, the only way it can be changed is to\n",
    "#re run the cell and recreat that tuple.\n",
    "#When we creat a list we use [] but when we creat a tuples we use ()\n",
    "Tuple_1 = (1, 2, 5, 8, 6)\n",
    "print(Tuple_1[3])"
   ]
  },
  {
   "cell_type": "markdown",
   "metadata": {},
   "source": [
    "### Tuple inside list"
   ]
  },
  {
   "cell_type": "code",
   "execution_count": 23,
   "metadata": {
    "execution": {
     "iopub.execute_input": "2023-01-11T18:33:34.074971Z",
     "iopub.status.busy": "2023-01-11T18:33:34.074631Z",
     "iopub.status.idle": "2023-01-11T18:33:34.085620Z",
     "shell.execute_reply": "2023-01-11T18:33:34.084715Z",
     "shell.execute_reply.started": "2023-01-11T18:33:34.074932Z"
    }
   },
   "outputs": [
    {
     "data": {
      "text/plain": [
       "[(1, 2), (3, 4), (5, 6), (7, 8), (9, 10)]"
      ]
     },
     "execution_count": 23,
     "metadata": {},
     "output_type": "execute_result"
    }
   ],
   "source": [
    "Coordinates = [(1,2) , (3,4), (5,6) , (7,8) , (9,10)]\n",
    "Coordinates"
   ]
  },
  {
   "cell_type": "code",
   "execution_count": 24,
   "metadata": {
    "execution": {
     "iopub.execute_input": "2023-01-11T18:33:34.090086Z",
     "iopub.status.busy": "2023-01-11T18:33:34.089730Z",
     "iopub.status.idle": "2023-01-11T18:33:34.096639Z",
     "shell.execute_reply": "2023-01-11T18:33:34.095740Z",
     "shell.execute_reply.started": "2023-01-11T18:33:34.090056Z"
    }
   },
   "outputs": [
    {
     "data": {
      "text/plain": [
       "[(1, 2), (3, 4), (5, 6), (1, 1), (9, 10)]"
      ]
     },
     "execution_count": 24,
     "metadata": {},
     "output_type": "execute_result"
    }
   ],
   "source": [
    "Coordinates[3] = (1,1)\n",
    "Coordinates"
   ]
  },
  {
   "cell_type": "markdown",
   "metadata": {},
   "source": [
    "<a id=\"4\"></a> <br>\n",
    "# Data type conversion"
   ]
  },
  {
   "cell_type": "markdown",
   "metadata": {},
   "source": [
    "### Convert number into a string"
   ]
  },
  {
   "cell_type": "code",
   "execution_count": 25,
   "metadata": {
    "execution": {
     "iopub.execute_input": "2023-01-11T18:33:34.098424Z",
     "iopub.status.busy": "2023-01-11T18:33:34.098097Z",
     "iopub.status.idle": "2023-01-11T18:33:34.106335Z",
     "shell.execute_reply": "2023-01-11T18:33:34.105592Z",
     "shell.execute_reply.started": "2023-01-11T18:33:34.098393Z"
    },
    "scrolled": true
   },
   "outputs": [
    {
     "name": "stdout",
     "output_type": "stream",
     "text": [
      "Maryam is 11 years old\n"
     ]
    }
   ],
   "source": [
    "# to change number into a string we use the string function\n",
    "fig_name = \"Maryam\"\n",
    "fig_age = 11\n",
    "print (fig_name + \" is \" + str(fig_age) + \" years old\")"
   ]
  },
  {
   "cell_type": "markdown",
   "metadata": {},
   "source": [
    "### Convert string into integer and float"
   ]
  },
  {
   "cell_type": "code",
   "execution_count": 26,
   "metadata": {
    "execution": {
     "iopub.execute_input": "2023-01-11T18:33:34.108099Z",
     "iopub.status.busy": "2023-01-11T18:33:34.107759Z",
     "iopub.status.idle": "2023-01-11T18:33:34.116116Z",
     "shell.execute_reply": "2023-01-11T18:33:34.115166Z",
     "shell.execute_reply.started": "2023-01-11T18:33:34.108069Z"
    }
   },
   "outputs": [
    {
     "name": "stdout",
     "output_type": "stream",
     "text": [
      "6\n"
     ]
    }
   ],
   "source": [
    "#Python function to convert string to integer number\n",
    "#to input data by using input function: kid_brth_year = input (\"what is your kid's year of birth?\")\n",
    "kid_brth_year = 2016\n",
    "kid_age = 2022 - int(kid_brth_year) \n",
    "print (kid_age)"
   ]
  },
  {
   "cell_type": "code",
   "execution_count": 27,
   "metadata": {
    "execution": {
     "iopub.execute_input": "2023-01-11T18:33:34.117699Z",
     "iopub.status.busy": "2023-01-11T18:33:34.117403Z",
     "iopub.status.idle": "2023-01-11T18:33:34.126721Z",
     "shell.execute_reply": "2023-01-11T18:33:34.125729Z",
     "shell.execute_reply.started": "2023-01-11T18:33:34.117672Z"
    }
   },
   "outputs": [
    {
     "name": "stdout",
     "output_type": "stream",
     "text": [
      "7.8\n"
     ]
    }
   ],
   "source": [
    "#Python function to convert string to float number\n",
    "num1 = 5.3\n",
    "num2 = \"2.5\"\n",
    "total = float(num1) + float(num2)\n",
    "print (total)"
   ]
  },
  {
   "cell_type": "markdown",
   "metadata": {},
   "source": [
    "<a id=\"5\"></a> <br>\n",
    "# Python Functions"
   ]
  },
  {
   "cell_type": "markdown",
   "metadata": {},
   "source": [
    "<a id=\"6\"></a> <br>\n",
    "### Print"
   ]
  },
  {
   "cell_type": "code",
   "execution_count": 28,
   "metadata": {
    "execution": {
     "iopub.execute_input": "2023-01-11T18:33:34.129360Z",
     "iopub.status.busy": "2023-01-11T18:33:34.129027Z",
     "iopub.status.idle": "2023-01-11T18:33:34.141026Z",
     "shell.execute_reply": "2023-01-11T18:33:34.140047Z",
     "shell.execute_reply.started": "2023-01-11T18:33:34.129330Z"
    }
   },
   "outputs": [
    {
     "name": "stdout",
     "output_type": "stream",
     "text": [
      "Mariam\n",
      "False\n",
      "True\n",
      "MARIAM\n",
      "True\n",
      "6\n",
      "3\n",
      "Maryam\n"
     ]
    }
   ],
   "source": [
    "## print function with strings\n",
    "fig_name = \"Mariam\"\n",
    "print (fig_name)\n",
    "print (fig_name.isupper())\n",
    "\n",
    "#to specify a specific letter in the phrase that we want to see it's case we use []the number of the letter\n",
    "print (fig_name[1].islower())\n",
    "print (fig_name.upper())\n",
    "print (fig_name.lower().islower())\n",
    "print (len(fig_name))\n",
    "print (fig_name.index(\"iam\"))\n",
    "print (fig_name.replace(\"i\",\"y\"))"
   ]
  },
  {
   "cell_type": "code",
   "execution_count": 29,
   "metadata": {
    "execution": {
     "iopub.execute_input": "2023-01-11T18:33:34.143031Z",
     "iopub.status.busy": "2023-01-11T18:33:34.142579Z",
     "iopub.status.idle": "2023-01-11T18:33:34.151005Z",
     "shell.execute_reply": "2023-01-11T18:33:34.150017Z",
     "shell.execute_reply.started": "2023-01-11T18:33:34.142988Z"
    }
   },
   "outputs": [
    {
     "name": "stdout",
     "output_type": "stream",
     "text": [
      "The story of Maryam\n",
      "fig_name = Mariam\n"
     ]
    }
   ],
   "source": [
    "#Print function, concatenation, \n",
    "print (\"The story of Maryam\")\n",
    "print (\"fig_name\" + \" = \" + fig_name)\n"
   ]
  },
  {
   "cell_type": "code",
   "execution_count": 30,
   "metadata": {
    "execution": {
     "iopub.execute_input": "2023-01-11T18:33:34.152570Z",
     "iopub.status.busy": "2023-01-11T18:33:34.152192Z",
     "iopub.status.idle": "2023-01-11T18:33:34.161515Z",
     "shell.execute_reply": "2023-01-11T18:33:34.160607Z",
     "shell.execute_reply.started": "2023-01-11T18:33:34.152537Z"
    }
   },
   "outputs": [
    {
     "name": "stdout",
     "output_type": "stream",
     "text": [
      "Alyaa \n",
      " Khalid\n"
     ]
    }
   ],
   "source": [
    "#to print in a new line\n",
    "print (\"Alyaa \\n Khalid\")"
   ]
  },
  {
   "cell_type": "code",
   "execution_count": 31,
   "metadata": {
    "execution": {
     "iopub.execute_input": "2023-01-11T18:33:34.164007Z",
     "iopub.status.busy": "2023-01-11T18:33:34.163376Z",
     "iopub.status.idle": "2023-01-11T18:33:34.171082Z",
     "shell.execute_reply": "2023-01-11T18:33:34.170134Z",
     "shell.execute_reply.started": "2023-01-11T18:33:34.163963Z"
    }
   },
   "outputs": [
    {
     "name": "stdout",
     "output_type": "stream",
     "text": [
      "Alya'a Khalid\n"
     ]
    }
   ],
   "source": [
    "#Back slash tell python that I want to print what ever after the back slash as it is.\n",
    "print (\"Alya\\'a Khalid\")"
   ]
  },
  {
   "cell_type": "code",
   "execution_count": 32,
   "metadata": {
    "execution": {
     "iopub.execute_input": "2023-01-11T18:33:34.172603Z",
     "iopub.status.busy": "2023-01-11T18:33:34.172202Z",
     "iopub.status.idle": "2023-01-11T18:33:34.180876Z",
     "shell.execute_reply": "2023-01-11T18:33:34.179959Z",
     "shell.execute_reply.started": "2023-01-11T18:33:34.172571Z"
    }
   },
   "outputs": [
    {
     "name": "stdout",
     "output_type": "stream",
     "text": [
      "8.0\n",
      "1\n"
     ]
    }
   ],
   "source": [
    "## Print Function with numbers\n",
    "fig_age = 10\n",
    "print ((fig_age + 6) / 2)\n",
    "#to get the remainder \n",
    "print ((fig_age + 6) % 3)"
   ]
  },
  {
   "cell_type": "code",
   "execution_count": 33,
   "metadata": {
    "execution": {
     "iopub.execute_input": "2023-01-11T18:33:34.182475Z",
     "iopub.status.busy": "2023-01-11T18:33:34.182174Z",
     "iopub.status.idle": "2023-01-11T18:33:34.190295Z",
     "shell.execute_reply": "2023-01-11T18:33:34.189350Z",
     "shell.execute_reply.started": "2023-01-11T18:33:34.182447Z"
    },
    "scrolled": true
   },
   "outputs": [
    {
     "name": "stdout",
     "output_type": "stream",
     "text": [
      "[3, 3, 3, 2, 2, 2] [1, 1, 1]\n",
      "3 2 1\n",
      "1\n",
      "[1, 1]\n",
      "[1, 1, 1]\n",
      "[1, 1]\n"
     ]
    }
   ],
   "source": [
    "Jana_list = [3,3,3]\n",
    "Maryam_list = [2,2,2]\n",
    "Noor_list = [1,1,1]\n",
    "print (Jana_list + Maryam_list , Noor_list)\n",
    "print (Jana_list[0], Maryam_list[1] , Noor_list[2])\n",
    "#to count from the end we use - before the number and the last number is going to have numbe 1\n",
    "print (Noor_list[-1])\n",
    "#to print every thing after a specific location we just use:\n",
    "print (Noor_list[:-1])\n",
    "print (Noor_list[0:])\n",
    "#see if we print from the end it will ignore the number that we specifiy not like if we count from the begining where it will \n",
    "#keep the first value with the selection\n",
    "print (Noor_list[0:2])\n",
    "#it ignored the last value that we specify"
   ]
  },
  {
   "cell_type": "markdown",
   "metadata": {},
   "source": [
    "<a id=\"7\"></a> <br>\n",
    "### Mathmatical functions "
   ]
  },
  {
   "cell_type": "markdown",
   "metadata": {},
   "source": [
    "### Built in functions"
   ]
  },
  {
   "cell_type": "code",
   "execution_count": 34,
   "metadata": {
    "execution": {
     "iopub.execute_input": "2023-01-11T18:33:34.192081Z",
     "iopub.status.busy": "2023-01-11T18:33:34.191588Z",
     "iopub.status.idle": "2023-01-11T18:33:34.198872Z",
     "shell.execute_reply": "2023-01-11T18:33:34.198190Z",
     "shell.execute_reply.started": "2023-01-11T18:33:34.192041Z"
    }
   },
   "outputs": [],
   "source": [
    "#Operator    Name               Description\n",
    "#a + b       Addition          Sum of a and b\n",
    "#a - b       Subtraction       Difference of a and b\n",
    "#a * b       Multiplication    Product of a and b\n",
    "#a / b       True division     Quotient of a and b\n",
    "#a // b      Floor division    Quotient of a and b, removing fractional parts\n",
    "#a % b       Modulus           Integer  remainder after division of a by b\n",
    "#a ** b      Exponentiation     a raised to the power of b\n",
    "#-a          Negation          The negative of a"
   ]
  },
  {
   "cell_type": "code",
   "execution_count": 35,
   "metadata": {
    "execution": {
     "iopub.execute_input": "2023-01-11T18:33:34.200049Z",
     "iopub.status.busy": "2023-01-11T18:33:34.199725Z",
     "iopub.status.idle": "2023-01-11T18:33:34.213277Z",
     "shell.execute_reply": "2023-01-11T18:33:34.212495Z",
     "shell.execute_reply.started": "2023-01-11T18:33:34.200020Z"
    }
   },
   "outputs": [
    {
     "name": "stdout",
     "output_type": "stream",
     "text": [
      "3\n",
      "9\n",
      "20\n",
      "1\n"
     ]
    }
   ],
   "source": [
    "#bsolute \n",
    "print (abs(-3))\n",
    "#raise to the power of a number\n",
    "print (pow(3,2))\n",
    "#the maximum number\n",
    "print (max(1,5,20))\n",
    "#the minimum\n",
    "print (min(1,5,20))"
   ]
  },
  {
   "cell_type": "markdown",
   "metadata": {},
   "source": [
    "### Math Library"
   ]
  },
  {
   "cell_type": "code",
   "execution_count": 36,
   "metadata": {
    "execution": {
     "iopub.execute_input": "2023-01-11T18:33:34.214518Z",
     "iopub.status.busy": "2023-01-11T18:33:34.214171Z",
     "iopub.status.idle": "2023-01-11T18:33:34.222418Z",
     "shell.execute_reply": "2023-01-11T18:33:34.221530Z",
     "shell.execute_reply.started": "2023-01-11T18:33:34.214487Z"
    }
   },
   "outputs": [
    {
     "name": "stdout",
     "output_type": "stream",
     "text": [
      "6\n",
      "5\n",
      "6\n",
      "1.7320508075688772\n"
     ]
    }
   ],
   "source": [
    "#if we want some extra mathematecal functions we need to import math module\n",
    "# to import math module \n",
    "from math import *\n",
    "print (round(5.5))\n",
    "#to chose the whole number only\n",
    "print (floor(5.5))\n",
    "#to make to the nearest upper absollute number\n",
    "print (ceil(5.2))\n",
    "#to get the square root\n",
    "print (sqrt(3))"
   ]
  },
  {
   "cell_type": "markdown",
   "metadata": {},
   "source": [
    "<a id=\"8\"></a> <br>\n",
    "### Input"
   ]
  },
  {
   "cell_type": "code",
   "execution_count": 37,
   "metadata": {
    "execution": {
     "iopub.execute_input": "2023-01-11T18:33:34.226010Z",
     "iopub.status.busy": "2023-01-11T18:33:34.225590Z",
     "iopub.status.idle": "2023-01-11T18:33:34.230643Z",
     "shell.execute_reply": "2023-01-11T18:33:34.229662Z",
     "shell.execute_reply.started": "2023-01-11T18:33:34.225976Z"
    }
   },
   "outputs": [],
   "source": [
    "# input function: (when we run the cell with input python is going to take it as string)\n",
    "#kid_name = input(\"what is your kid's name? \") \n",
    "#kid_name = input(a)\n",
    "#kid_name = \"Noora\"\n",
    "#print (\"hello \" + kid_name)"
   ]
  },
  {
   "cell_type": "markdown",
   "metadata": {},
   "source": [
    "<a id=\"9\"></a> <br>\n",
    "### Defined function & return statement"
   ]
  },
  {
   "cell_type": "code",
   "execution_count": 38,
   "metadata": {
    "execution": {
     "iopub.execute_input": "2023-01-11T18:33:34.232244Z",
     "iopub.status.busy": "2023-01-11T18:33:34.231810Z",
     "iopub.status.idle": "2023-01-11T18:33:34.240472Z",
     "shell.execute_reply": "2023-01-11T18:33:34.239668Z",
     "shell.execute_reply.started": "2023-01-11T18:33:34.232205Z"
    }
   },
   "outputs": [
    {
     "name": "stdout",
     "output_type": "stream",
     "text": [
      "12\n"
     ]
    }
   ],
   "source": [
    "#to define a function for calculating the total\n",
    "def add(x,y):\n",
    "    print (x+y)\n",
    "add(5,7)"
   ]
  },
  {
   "cell_type": "code",
   "execution_count": 39,
   "metadata": {
    "execution": {
     "iopub.execute_input": "2023-01-11T18:33:34.242050Z",
     "iopub.status.busy": "2023-01-11T18:33:34.241476Z",
     "iopub.status.idle": "2023-01-11T18:33:34.251356Z",
     "shell.execute_reply": "2023-01-11T18:33:34.250429Z",
     "shell.execute_reply.started": "2023-01-11T18:33:34.242018Z"
    }
   },
   "outputs": [
    {
     "data": {
      "text/plain": [
       "27.0"
      ]
     },
     "execution_count": 39,
     "metadata": {},
     "output_type": "execute_result"
    }
   ],
   "source": [
    "#to define a function to calculate the cubic number \n",
    "def cube (num):\n",
    "    num = float(num)\n",
    "    return num*num*num\n",
    "cube(3)"
   ]
  },
  {
   "cell_type": "code",
   "execution_count": 40,
   "metadata": {
    "execution": {
     "iopub.execute_input": "2023-01-11T18:33:34.252917Z",
     "iopub.status.busy": "2023-01-11T18:33:34.252455Z",
     "iopub.status.idle": "2023-01-11T18:33:34.260041Z",
     "shell.execute_reply": "2023-01-11T18:33:34.259116Z",
     "shell.execute_reply.started": "2023-01-11T18:33:34.252856Z"
    }
   },
   "outputs": [
    {
     "name": "stdout",
     "output_type": "stream",
     "text": [
      "Hello Alyaa\n"
     ]
    }
   ],
   "source": [
    "# to define a function to greet some one\n",
    "def greet (name):\n",
    "    print (\"Hello \" + name)\n",
    "greet (\"Alyaa\")"
   ]
  },
  {
   "cell_type": "code",
   "execution_count": 41,
   "metadata": {
    "execution": {
     "iopub.execute_input": "2023-01-11T18:33:34.262251Z",
     "iopub.status.busy": "2023-01-11T18:33:34.261250Z",
     "iopub.status.idle": "2023-01-11T18:33:34.268777Z",
     "shell.execute_reply": "2023-01-11T18:33:34.268042Z",
     "shell.execute_reply.started": "2023-01-11T18:33:34.262198Z"
    }
   },
   "outputs": [],
   "source": [
    "def welcome_phrase_1():\n",
    "    name = input(\"what's your name user?\")\n",
    "    print(\"hello \" + name)\n",
    "    birth_year = input(\"what is your year of birth?\")\n",
    "    age = 2022-int(birth_year)\n",
    "    print(\"so you are \" + str(age) + \" years old\")\n",
    "    print (\"how can I help you?\")"
   ]
  },
  {
   "cell_type": "code",
   "execution_count": 42,
   "metadata": {
    "execution": {
     "iopub.execute_input": "2023-01-11T18:33:34.270606Z",
     "iopub.status.busy": "2023-01-11T18:33:34.270198Z",
     "iopub.status.idle": "2023-01-11T18:33:34.280734Z",
     "shell.execute_reply": "2023-01-11T18:33:34.279984Z",
     "shell.execute_reply.started": "2023-01-11T18:33:34.270566Z"
    }
   },
   "outputs": [
    {
     "data": {
      "text/plain": [
       "8"
      ]
     },
     "execution_count": 42,
     "metadata": {},
     "output_type": "execute_result"
    }
   ],
   "source": [
    "def raise_to_power (num, power):\n",
    "    result = 1\n",
    "    for i in range (power):\n",
    "        result = result * num\n",
    "    return result\n",
    "raise_to_power (2,3)"
   ]
  },
  {
   "cell_type": "markdown",
   "metadata": {},
   "source": [
    "<a id=\"10\"></a> <br>\n",
    "### If Statement"
   ]
  },
  {
   "cell_type": "code",
   "execution_count": 43,
   "metadata": {
    "execution": {
     "iopub.execute_input": "2023-01-11T18:33:34.282496Z",
     "iopub.status.busy": "2023-01-11T18:33:34.281942Z",
     "iopub.status.idle": "2023-01-11T18:33:34.290114Z",
     "shell.execute_reply": "2023-01-11T18:33:34.289292Z",
     "shell.execute_reply.started": "2023-01-11T18:33:34.282458Z"
    }
   },
   "outputs": [
    {
     "name": "stdout",
     "output_type": "stream",
     "text": [
      "number is less than 3\n"
     ]
    }
   ],
   "source": [
    "a = 1\n",
    "a = float (a)\n",
    "if a == 1 or a == 2:\n",
    "    print (\"number is less than 3\")\n",
    "elif a > 3 and not a > 10 :\n",
    "    print (\"number is bigger than 3 and less than 11\")\n",
    "else:\n",
    "    print (\"number is bigger than 10\")"
   ]
  },
  {
   "cell_type": "markdown",
   "metadata": {},
   "source": [
    "<a id=\"11\"></a> <br>\n",
    "### While loop"
   ]
  },
  {
   "cell_type": "code",
   "execution_count": 44,
   "metadata": {
    "execution": {
     "iopub.execute_input": "2023-01-11T18:33:34.292576Z",
     "iopub.status.busy": "2023-01-11T18:33:34.291382Z",
     "iopub.status.idle": "2023-01-11T18:33:34.304095Z",
     "shell.execute_reply": "2023-01-11T18:33:34.303087Z",
     "shell.execute_reply.started": "2023-01-11T18:33:34.292532Z"
    }
   },
   "outputs": [
    {
     "name": "stdout",
     "output_type": "stream",
     "text": [
      "10\n",
      "9\n",
      "8\n",
      "7\n",
      "6\n",
      "5\n",
      "4\n",
      "3\n",
      "2\n",
      "1\n",
      "done\n"
     ]
    }
   ],
   "source": [
    "a = 11\n",
    "while a > 1:\n",
    "    a -=1\n",
    "    print (a)\n",
    "print(\"done\")"
   ]
  },
  {
   "cell_type": "markdown",
   "metadata": {},
   "source": [
    "<a id=\"12\"></a> <br>\n",
    "### For loops"
   ]
  },
  {
   "cell_type": "code",
   "execution_count": 45,
   "metadata": {
    "execution": {
     "iopub.execute_input": "2023-01-11T18:33:34.306181Z",
     "iopub.status.busy": "2023-01-11T18:33:34.305443Z",
     "iopub.status.idle": "2023-01-11T18:33:34.314385Z",
     "shell.execute_reply": "2023-01-11T18:33:34.313310Z",
     "shell.execute_reply.started": "2023-01-11T18:33:34.306138Z"
    }
   },
   "outputs": [
    {
     "name": "stdout",
     "output_type": "stream",
     "text": [
      "15.0\n"
     ]
    }
   ],
   "source": [
    "#Loop-1\n",
    "num = 0\n",
    "b = -1\n",
    "numbers = [1,2,3,4,5]\n",
    "targets = [11,12,13,14,15]\n",
    "for a in  (numbers):\n",
    "    b = b+1\n",
    "    num = num + a\n",
    "    if float(num) == targets[b]:\n",
    "        print (float(num))"
   ]
  },
  {
   "cell_type": "code",
   "execution_count": 46,
   "metadata": {
    "execution": {
     "iopub.execute_input": "2023-01-11T18:33:34.316346Z",
     "iopub.status.busy": "2023-01-11T18:33:34.315424Z",
     "iopub.status.idle": "2023-01-11T18:33:34.324410Z",
     "shell.execute_reply": "2023-01-11T18:33:34.323352Z",
     "shell.execute_reply.started": "2023-01-11T18:33:34.316302Z"
    }
   },
   "outputs": [
    {
     "name": "stdout",
     "output_type": "stream",
     "text": [
      "1\n",
      "3\n",
      "6\n",
      "10\n",
      "15\n",
      "15.0\n"
     ]
    }
   ],
   "source": [
    "#Loop-2\n",
    "num1 = 0\n",
    "numbers = [1,2,3,4,5]\n",
    "targets = [11,12,13,14,15]\n",
    "for a in range (5):\n",
    "    num1 = num1 + numbers[a]\n",
    "    print (num1)\n",
    "    if float(num1) in targets:\n",
    "        print (float(num1))"
   ]
  },
  {
   "cell_type": "markdown",
   "metadata": {},
   "source": [
    "<a id=\"13\"></a> <br>\n",
    "### Try/ Except"
   ]
  },
  {
   "cell_type": "code",
   "execution_count": 47,
   "metadata": {
    "execution": {
     "iopub.execute_input": "2023-01-11T18:33:34.326243Z",
     "iopub.status.busy": "2023-01-11T18:33:34.325606Z",
     "iopub.status.idle": "2023-01-11T18:33:34.333928Z",
     "shell.execute_reply": "2023-01-11T18:33:34.333240Z",
     "shell.execute_reply.started": "2023-01-11T18:33:34.326194Z"
    }
   },
   "outputs": [
    {
     "name": "stdout",
     "output_type": "stream",
     "text": [
      "invalid input\n",
      "5.0\n"
     ]
    }
   ],
   "source": [
    "try:\n",
    "    number = 0\n",
    "    value = 10 / number\n",
    "    print (value)\n",
    "except :\n",
    "    print(\"invalid input\")\n",
    "try:\n",
    "    number = 2\n",
    "    value = 10 / number\n",
    "    print (value)\n",
    "except :\n",
    "    print(\"invalid input\")"
   ]
  },
  {
   "cell_type": "markdown",
   "metadata": {},
   "source": [
    "<a id=\"14\"></a> <br>\n",
    "# Open, read and close files"
   ]
  },
  {
   "cell_type": "code",
   "execution_count": 48,
   "metadata": {
    "execution": {
     "iopub.execute_input": "2023-01-11T18:33:34.335861Z",
     "iopub.status.busy": "2023-01-11T18:33:34.335106Z",
     "iopub.status.idle": "2023-01-11T18:33:34.344362Z",
     "shell.execute_reply": "2023-01-11T18:33:34.343449Z",
     "shell.execute_reply.started": "2023-01-11T18:33:34.335828Z"
    }
   },
   "outputs": [],
   "source": [
    "#w : write, a : append, r: read\n",
    "file_1 = open(\"file_1\" , \"w\")\n",
    "file_1.write(\"Alyaa - 40\")\n",
    "file_1.write(\"\\nJana - 13\")\n",
    "file_1.write(\"\\nMaryam - 10\")\n",
    "file_1.write(\"\\nNoor - 6\")\n",
    "file_1.close()"
   ]
  },
  {
   "cell_type": "code",
   "execution_count": 49,
   "metadata": {
    "execution": {
     "iopub.execute_input": "2023-01-11T18:33:34.346167Z",
     "iopub.status.busy": "2023-01-11T18:33:34.345459Z",
     "iopub.status.idle": "2023-01-11T18:33:34.355119Z",
     "shell.execute_reply": "2023-01-11T18:33:34.353980Z",
     "shell.execute_reply.started": "2023-01-11T18:33:34.346123Z"
    }
   },
   "outputs": [
    {
     "data": {
      "text/plain": [
       "11"
      ]
     },
     "execution_count": 49,
     "metadata": {},
     "output_type": "execute_result"
    }
   ],
   "source": [
    "file_1 = open(\"file_1\" , \"a\")\n",
    "file_1.write(\"\\nRamiz - 43\")"
   ]
  },
  {
   "cell_type": "code",
   "execution_count": 50,
   "metadata": {
    "execution": {
     "iopub.execute_input": "2023-01-11T18:33:34.357379Z",
     "iopub.status.busy": "2023-01-11T18:33:34.356515Z",
     "iopub.status.idle": "2023-01-11T18:33:34.363595Z",
     "shell.execute_reply": "2023-01-11T18:33:34.362637Z",
     "shell.execute_reply.started": "2023-01-11T18:33:34.357334Z"
    }
   },
   "outputs": [
    {
     "name": "stdout",
     "output_type": "stream",
     "text": [
      "Alyaa - 40\n",
      "Jana - 13\n",
      "Maryam - 10\n",
      "Noor - 6\n",
      "Ramiz - 43\n"
     ]
    }
   ],
   "source": [
    "file_1 = open(\"file_1\",\"r\")\n",
    "print(file_1.read())"
   ]
  },
  {
   "cell_type": "markdown",
   "metadata": {},
   "source": [
    "<a id=\"15\"></a> <br>\n",
    "# Numpy"
   ]
  },
  {
   "cell_type": "code",
   "execution_count": 51,
   "metadata": {
    "execution": {
     "iopub.execute_input": "2023-01-11T18:33:34.365942Z",
     "iopub.status.busy": "2023-01-11T18:33:34.364931Z",
     "iopub.status.idle": "2023-01-11T18:33:34.372840Z",
     "shell.execute_reply": "2023-01-11T18:33:34.372048Z",
     "shell.execute_reply.started": "2023-01-11T18:33:34.365878Z"
    }
   },
   "outputs": [],
   "source": [
    "import numpy as np"
   ]
  },
  {
   "cell_type": "code",
   "execution_count": 52,
   "metadata": {
    "execution": {
     "iopub.execute_input": "2023-01-11T18:33:34.374688Z",
     "iopub.status.busy": "2023-01-11T18:33:34.373938Z",
     "iopub.status.idle": "2023-01-11T18:33:34.387359Z",
     "shell.execute_reply": "2023-01-11T18:33:34.386376Z",
     "shell.execute_reply.started": "2023-01-11T18:33:34.374646Z"
    }
   },
   "outputs": [
    {
     "data": {
      "text/plain": [
       "array([[ 1,  2],\n",
       "       [ 3,  4],\n",
       "       [ 5,  6],\n",
       "       [ 7,  8],\n",
       "       [ 9, 10]])"
      ]
     },
     "execution_count": 52,
     "metadata": {},
     "output_type": "execute_result"
    }
   ],
   "source": [
    "#Numpy Array\n",
    "A = np.array([[1,2], [3,4], [5,6],[7,8],[9,10]])\n",
    "A"
   ]
  },
  {
   "cell_type": "code",
   "execution_count": 53,
   "metadata": {
    "execution": {
     "iopub.execute_input": "2023-01-11T18:33:34.389180Z",
     "iopub.status.busy": "2023-01-11T18:33:34.388748Z",
     "iopub.status.idle": "2023-01-11T18:33:34.397985Z",
     "shell.execute_reply": "2023-01-11T18:33:34.397047Z",
     "shell.execute_reply.started": "2023-01-11T18:33:34.389139Z"
    }
   },
   "outputs": [
    {
     "data": {
      "text/plain": [
       "array([1, 2, 1, 2, 1, 2])"
      ]
     },
     "execution_count": 53,
     "metadata": {},
     "output_type": "execute_result"
    }
   ],
   "source": [
    "#Numpy Array\n",
    "B = np.array ([1,2,1,2,1,2])\n",
    "B"
   ]
  },
  {
   "cell_type": "markdown",
   "metadata": {},
   "source": [
    "<a id=\"16\"></a> <br>\n",
    "## Various codes"
   ]
  },
  {
   "cell_type": "code",
   "execution_count": 54,
   "metadata": {
    "execution": {
     "iopub.execute_input": "2023-01-11T18:33:34.399940Z",
     "iopub.status.busy": "2023-01-11T18:33:34.399242Z",
     "iopub.status.idle": "2023-01-11T18:33:37.412737Z",
     "shell.execute_reply": "2023-01-11T18:33:37.411771Z",
     "shell.execute_reply.started": "2023-01-11T18:33:34.399882Z"
    }
   },
   "outputs": [
    {
     "name": "stdout",
     "output_type": "stream",
     "text": [
      "3...2...1...Go!\n"
     ]
    }
   ],
   "source": [
    "import time\n",
    "\n",
    "num_seconds = 3\n",
    "for countdown in reversed(range(num_seconds + 1)):\n",
    "    if countdown > 0:\n",
    "        print(countdown, end='...')\n",
    "        time.sleep(1)\n",
    "    else:\n",
    "        print('Go!')"
   ]
  },
  {
   "cell_type": "code",
   "execution_count": 55,
   "metadata": {
    "execution": {
     "iopub.execute_input": "2023-01-11T18:33:37.418613Z",
     "iopub.status.busy": "2023-01-11T18:33:37.418158Z",
     "iopub.status.idle": "2023-01-11T18:33:37.426113Z",
     "shell.execute_reply": "2023-01-11T18:33:37.425247Z",
     "shell.execute_reply.started": "2023-01-11T18:33:37.418568Z"
    }
   },
   "outputs": [
    {
     "name": "stdout",
     "output_type": "stream",
     "text": [
      "G_nggd_Ygg\n"
     ]
    }
   ],
   "source": [
    "#Making a translator\n",
    "def translate(phrase):\n",
    "    translation = \"\"\n",
    "    for letter in phrase:\n",
    "        if letter in \"AEIOUaeiou\":\n",
    "            if letter.isupper():\n",
    "                translation = translation +\"G\"\n",
    "            else:\n",
    "                translation = translation + \"g\"\n",
    "        else:\n",
    "            translation = translation + letter\n",
    "    return translation\n",
    "print(translate(\"I_need_You\"))"
   ]
  },
  {
   "cell_type": "code",
   "execution_count": 56,
   "metadata": {
    "execution": {
     "iopub.execute_input": "2023-01-11T18:33:37.427994Z",
     "iopub.status.busy": "2023-01-11T18:33:37.427594Z",
     "iopub.status.idle": "2023-01-11T18:33:37.438503Z",
     "shell.execute_reply": "2023-01-11T18:33:37.437683Z",
     "shell.execute_reply.started": "2023-01-11T18:33:37.427959Z"
    }
   },
   "outputs": [
    {
     "name": "stdout",
     "output_type": "stream",
     "text": [
      "M\n",
      "a\n",
      "r\n",
      "y\n",
      "a\n",
      "m\n"
     ]
    }
   ],
   "source": [
    "#making a list of a given name or phrase\n",
    "name = \"Maryam\"\n",
    "for i in range (len(name)):\n",
    "        letter = name[i]\n",
    "        print (letter)"
   ]
  }
 ],
 "metadata": {
  "kernelspec": {
   "display_name": "Python 3 (ipykernel)",
   "language": "python",
   "name": "python3"
  },
  "language_info": {
   "codemirror_mode": {
    "name": "ipython",
    "version": 3
   },
   "file_extension": ".py",
   "mimetype": "text/x-python",
   "name": "python",
   "nbconvert_exporter": "python",
   "pygments_lexer": "ipython3",
   "version": "3.9.12"
  }
 },
 "nbformat": 4,
 "nbformat_minor": 4
}
